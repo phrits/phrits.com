{
 "cells": [
  {
   "cell_type": "code",
   "execution_count": 641,
   "id": "3f65b79c",
   "metadata": {},
   "outputs": [],
   "source": [
    "# cwysted.py\n",
    "\n",
    "import re"
   ]
  },
  {
   "cell_type": "code",
   "execution_count": 642,
   "id": "8c082489",
   "metadata": {},
   "outputs": [],
   "source": [
    "def color_split(color_hex = '', color_byte=2):\n",
    "    if len(color_hex) == color_byte * 3:\n",
    "        colors = [color_hex[i:i+color_byte] for i in range(0, len(color_hex), color_byte)]\n",
    "        colors.append(\"FF\")\n",
    "        return colors\n",
    "    elif len(color_hex) == color_byte * 4:\n",
    "        colors = [color_hex[i:i+color_byte] for i in range(0, len(color_hex), color_byte)]\n",
    "        return colors\n",
    "    else:\n",
    "        return ()"
   ]
  },
  {
   "cell_type": "code",
   "execution_count": 643,
   "id": "fde2b215",
   "metadata": {},
   "outputs": [],
   "source": [
    "def good_color(color = ''):\n",
    "    if re.search(\"^#([0-9A-Fa-f]{2}){3,4}\", color):\n",
    "        return True\n",
    "    else:\n",
    "        return False"
   ]
  },
  {
   "cell_type": "code",
   "execution_count": 644,
   "id": "a9d2376f",
   "metadata": {},
   "outputs": [],
   "source": [
    "def intify(hex_bytes=\"\"):\n",
    "    hex_bytes = int(\"0x\" + hex_bytes, 0)\n",
    "    return hex_bytes"
   ]
  },
  {
   "cell_type": "code",
   "execution_count": 645,
   "id": "c81e9aae",
   "metadata": {},
   "outputs": [],
   "source": [
    "def step(c1 = 0, c2 = 0, steps=1):\n",
    "    return int(round((c2-c1)/max(steps-1, 1)))"
   ]
  },
  {
   "cell_type": "code",
   "execution_count": 646,
   "id": "c09e5b95",
   "metadata": {},
   "outputs": [],
   "source": [
    "def chunks(lst, bands):\n",
    "    bandwidth = int(round(len(lst)/bands))\n",
    "    chunk_list = []\n",
    "    for i in range (0, len(lst), bandwidth):\n",
    "        chunk_list.append(lst[i:i+bandwidth])\n",
    "        i+=bandwidth\n",
    "\n",
    "#         for i in range(n-1):\n",
    "#         arr[i] = arr[i+1]\n",
    "#     arr[n-1] = temp\n",
    "\n",
    "    for i in range(0, bands):\n",
    "        index_0 = chunk_list[i][0]\n",
    "        for j in range(0, bandwidth-1):\n",
    "            chunk_list[i][j] = chunk_list[i][j+1]\n",
    "        chunk_list[i][bandwidth-1] = index_0\n",
    "\n",
    "    return chunk_list\n",
    "#    print(chunk_list)"
   ]
  },
  {
   "cell_type": "code",
   "execution_count": 647,
   "id": "d8cd1861",
   "metadata": {},
   "outputs": [],
   "source": [
    "def cwyst(c1 = '#00000000', c2='#FFFFFFFF', c3='',\n",
    "            w1=1, w2=1, w3=1,\n",
    "            twist=1,\n",
    "            bands = 4,steps=16):\n",
    "\n",
    "    return_color_string = ''\n",
    "    cwysted = []\n",
    "\n",
    "    # Verify colors\n",
    "    if good_color(c1) and good_color(c2):\n",
    "        [r1, g1, b1, t1] = color_split(re.sub(\"^#\", \"\", c1))\n",
    "        [r1, g1, b1, t1] = [intify(r1), intify(g1), intify(b1), intify(t1)]\n",
    "        [r2, g2, b2, t2] = color_split(re.sub(\"^#\", \"\", c2))\n",
    "        [r2, g2, b2, t2] = [intify(r2), intify(g2), intify(b2), intify(t2)]\n",
    "    if good_color(c3):\n",
    "        [r3, g3, b3, t3] = color_split(re.sub(\"^#\", \"\", c3))\n",
    "        [r3, g3, b3, t3] = [intify(r3), intify(g3), intify(b3), intify(t3)]\n",
    "\n",
    "    # Get increments\n",
    "    r_step = step(r1, r2, steps)\n",
    "    g_step = step(g1, g2, steps)\n",
    "    b_step = step(b1, b2, steps)\n",
    "    t_step = step(t1, t2, steps)\n",
    "    \n",
    "    # Apply Increments\n",
    "    for i in range(steps):\n",
    "        ri = f'{max(int(r1+i*r_step),0):02x}'\n",
    "        bi = f'{max(int(b1+i*b_step),0):02x}'\n",
    "        gi = f'{max(int(g1+i*g_step),0):02x}'\n",
    "        ti = f'{max(int(t1+i*t_step),0):02x}'\n",
    "\n",
    "        color_string = \"#\" + ri + bi + gi + ti\n",
    "        cwysted.append(color_string)\n",
    "        return_color_string = return_color_string + color_string + \", \"\n",
    "\n",
    "    print(cwysted)\n",
    "        \n",
    "        \n",
    "    cwysted_chunks=chunks(cwysted, bands)\n",
    "        \n",
    "    print(cwysted_chunks)\n",
    "        \n",
    "        \n",
    "        \n",
    "        \n",
    "        \n",
    "    return_color_string = return_color_string.rstrip(', ')\n",
    "    \n",
    "    \n",
    "    return return_color_string"
   ]
  },
  {
   "cell_type": "code",
   "execution_count": 648,
   "id": "29eb7cdc",
   "metadata": {},
   "outputs": [
    {
     "name": "stdout",
     "output_type": "stream",
     "text": [
      "['#00ff0fff', '#11ee1eee', '#22dd2ddd', '#33cc3ccc', '#44bb4bbb', '#55aa5aaa', '#66996999', '#77887888', '#88778777', '#99669666', '#aa55a555', '#bb44b444', '#cc33c333', '#dd22d222', '#ee11e111', '#ff00f000']\n",
      "[['#11ee1eee', '#22dd2ddd', '#33cc3ccc', '#00ff0fff'], ['#55aa5aaa', '#66996999', '#77887888', '#44bb4bbb'], ['#99669666', '#aa55a555', '#bb44b444', '#88778777'], ['#dd22d222', '#ee11e111', '#ff00f000', '#cc33c333']]\n"
     ]
    }
   ],
   "source": [
    "c1 = \"#000FFFFF\"\n",
    "c2 = \"#ffF00000\"\n",
    "cwysted = cwyst(c1, c2, c3=\"#88888888\", steps=16)\n",
    "# print(cwysted)\n"
   ]
  },
  {
   "cell_type": "code",
   "execution_count": null,
   "id": "45dc2f6a",
   "metadata": {},
   "outputs": [],
   "source": []
  }
 ],
 "metadata": {
  "kernelspec": {
   "display_name": "Python 3 (ipykernel)",
   "language": "python",
   "name": "python3"
  },
  "language_info": {
   "codemirror_mode": {
    "name": "ipython",
    "version": 3
   },
   "file_extension": ".py",
   "mimetype": "text/x-python",
   "name": "python",
   "nbconvert_exporter": "python",
   "pygments_lexer": "ipython3",
   "version": "3.8.12"
  }
 },
 "nbformat": 4,
 "nbformat_minor": 5
}
